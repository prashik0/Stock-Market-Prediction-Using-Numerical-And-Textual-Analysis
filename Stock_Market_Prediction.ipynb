{
 "cells": [
  {
   "cell_type": "markdown",
   "metadata": {},
   "source": [
    "### Importing Essential Libraries"
   ]
  },
  {
   "cell_type": "code",
   "execution_count": 1,
   "metadata": {},
   "outputs": [],
   "source": [
    "import nltk\n",
    "# nltk.download(\"vader_lexicon\")\n",
    "\n",
    "import math\n",
    "import numpy as np\n",
    "import pandas as pd\n",
    "import seaborn as sns\n",
    "\n",
    "import matplotlib.pyplot as plt\n",
    "%matplotlib inline"
   ]
  },
  {
   "cell_type": "markdown",
   "metadata": {},
   "source": [
    "__Reading The Stock Price & News Headlines Data....__"
   ]
  },
  {
   "cell_type": "code",
   "execution_count": 2,
   "metadata": {},
   "outputs": [],
   "source": [
    "# https://finance.yahoo.com/\n",
    "stock_price = pd.read_csv(\"AAPL.csv\")\n",
    "\n",
    "# https://bit.ly/36fFPI6\n",
    "news_headlines = pd.read_csv(\"india-news-headlines.csv\")"
   ]
  },
  {
   "cell_type": "code",
   "execution_count": 3,
   "metadata": {},
   "outputs": [
    {
     "data": {
      "text/html": [
       "<div>\n",
       "<style scoped>\n",
       "    .dataframe tbody tr th:only-of-type {\n",
       "        vertical-align: middle;\n",
       "    }\n",
       "\n",
       "    .dataframe tbody tr th {\n",
       "        vertical-align: top;\n",
       "    }\n",
       "\n",
       "    .dataframe thead th {\n",
       "        text-align: right;\n",
       "    }\n",
       "</style>\n",
       "<table border=\"1\" class=\"dataframe\">\n",
       "  <thead>\n",
       "    <tr style=\"text-align: right;\">\n",
       "      <th></th>\n",
       "      <th>Date</th>\n",
       "      <th>Open</th>\n",
       "      <th>High</th>\n",
       "      <th>Low</th>\n",
       "      <th>Close</th>\n",
       "      <th>Adj Close</th>\n",
       "      <th>Volume</th>\n",
       "    </tr>\n",
       "  </thead>\n",
       "  <tbody>\n",
       "    <tr>\n",
       "      <th>0</th>\n",
       "      <td>2001-01-02</td>\n",
       "      <td>0.265625</td>\n",
       "      <td>0.272321</td>\n",
       "      <td>0.260045</td>\n",
       "      <td>0.265625</td>\n",
       "      <td>0.229537</td>\n",
       "      <td>452312000</td>\n",
       "    </tr>\n",
       "    <tr>\n",
       "      <th>1</th>\n",
       "      <td>2001-01-03</td>\n",
       "      <td>0.258929</td>\n",
       "      <td>0.297991</td>\n",
       "      <td>0.257813</td>\n",
       "      <td>0.292411</td>\n",
       "      <td>0.252684</td>\n",
       "      <td>817073600</td>\n",
       "    </tr>\n",
       "    <tr>\n",
       "      <th>2</th>\n",
       "      <td>2001-01-04</td>\n",
       "      <td>0.323940</td>\n",
       "      <td>0.330357</td>\n",
       "      <td>0.300223</td>\n",
       "      <td>0.304688</td>\n",
       "      <td>0.263292</td>\n",
       "      <td>739396000</td>\n",
       "    </tr>\n",
       "  </tbody>\n",
       "</table>\n",
       "</div>"
      ],
      "text/plain": [
       "         Date      Open      High       Low     Close  Adj Close     Volume\n",
       "0  2001-01-02  0.265625  0.272321  0.260045  0.265625   0.229537  452312000\n",
       "1  2001-01-03  0.258929  0.297991  0.257813  0.292411   0.252684  817073600\n",
       "2  2001-01-04  0.323940  0.330357  0.300223  0.304688   0.263292  739396000"
      ]
     },
     "execution_count": 3,
     "metadata": {},
     "output_type": "execute_result"
    }
   ],
   "source": [
    "stock_price.head(3)"
   ]
  },
  {
   "cell_type": "code",
   "execution_count": 4,
   "metadata": {},
   "outputs": [
    {
     "data": {
      "text/html": [
       "<div>\n",
       "<style scoped>\n",
       "    .dataframe tbody tr th:only-of-type {\n",
       "        vertical-align: middle;\n",
       "    }\n",
       "\n",
       "    .dataframe tbody tr th {\n",
       "        vertical-align: top;\n",
       "    }\n",
       "\n",
       "    .dataframe thead th {\n",
       "        text-align: right;\n",
       "    }\n",
       "</style>\n",
       "<table border=\"1\" class=\"dataframe\">\n",
       "  <thead>\n",
       "    <tr style=\"text-align: right;\">\n",
       "      <th></th>\n",
       "      <th>publish_date</th>\n",
       "      <th>headline_category</th>\n",
       "      <th>headline_text</th>\n",
       "    </tr>\n",
       "  </thead>\n",
       "  <tbody>\n",
       "    <tr>\n",
       "      <th>0</th>\n",
       "      <td>20010102</td>\n",
       "      <td>unknown</td>\n",
       "      <td>Status quo will not be disturbed at Ayodhya; s...</td>\n",
       "    </tr>\n",
       "    <tr>\n",
       "      <th>1</th>\n",
       "      <td>20010102</td>\n",
       "      <td>unknown</td>\n",
       "      <td>Fissures in Hurriyat over Pak visit</td>\n",
       "    </tr>\n",
       "    <tr>\n",
       "      <th>2</th>\n",
       "      <td>20010102</td>\n",
       "      <td>unknown</td>\n",
       "      <td>America's unwanted heading for India?</td>\n",
       "    </tr>\n",
       "  </tbody>\n",
       "</table>\n",
       "</div>"
      ],
      "text/plain": [
       "   publish_date headline_category  \\\n",
       "0      20010102           unknown   \n",
       "1      20010102           unknown   \n",
       "2      20010102           unknown   \n",
       "\n",
       "                                       headline_text  \n",
       "0  Status quo will not be disturbed at Ayodhya; s...  \n",
       "1                Fissures in Hurriyat over Pak visit  \n",
       "2              America's unwanted heading for India?  "
      ]
     },
     "execution_count": 4,
     "metadata": {},
     "output_type": "execute_result"
    }
   ],
   "source": [
    "news_headlines.head(3)"
   ]
  },
  {
   "cell_type": "markdown",
   "metadata": {},
   "source": [
    "### Feature Engineering"
   ]
  },
  {
   "cell_type": "code",
   "execution_count": 5,
   "metadata": {},
   "outputs": [
    {
     "name": "stdout",
     "output_type": "stream",
     "text": [
      "Stock Price Data Shape:  4904 × 7\n",
      "News Headlines Data Shape:  3424067 × 3\n"
     ]
    }
   ],
   "source": [
    "print(\"Stock Price Data Shape: \", stock_price.shape[0], \"×\", stock_price.shape[1])\n",
    "print(\"News Headlines Data Shape: \", news_headlines.shape[0], \"×\", news_headlines.shape[1])"
   ]
  },
  {
   "cell_type": "markdown",
   "metadata": {},
   "source": [
    "__Checking For Null Values....__"
   ]
  },
  {
   "cell_type": "code",
   "execution_count": 6,
   "metadata": {},
   "outputs": [
    {
     "data": {
      "text/plain": [
       "Date         0\n",
       "Open         0\n",
       "High         0\n",
       "Low          0\n",
       "Close        0\n",
       "Adj Close    0\n",
       "Volume       0\n",
       "dtype: int64"
      ]
     },
     "execution_count": 6,
     "metadata": {},
     "output_type": "execute_result"
    }
   ],
   "source": [
    "stock_price.isnull().sum()"
   ]
  },
  {
   "cell_type": "code",
   "execution_count": 7,
   "metadata": {},
   "outputs": [
    {
     "data": {
      "text/plain": [
       "publish_date         0\n",
       "headline_category    0\n",
       "headline_text        0\n",
       "dtype: int64"
      ]
     },
     "execution_count": 7,
     "metadata": {},
     "output_type": "execute_result"
    }
   ],
   "source": [
    "news_headlines.isnull().sum()"
   ]
  },
  {
   "cell_type": "markdown",
   "metadata": {},
   "source": [
    "__Cleaning Up The Stock Price Data....__"
   ]
  },
  {
   "cell_type": "code",
   "execution_count": 8,
   "metadata": {},
   "outputs": [
    {
     "data": {
      "text/html": [
       "<div>\n",
       "<style scoped>\n",
       "    .dataframe tbody tr th:only-of-type {\n",
       "        vertical-align: middle;\n",
       "    }\n",
       "\n",
       "    .dataframe tbody tr th {\n",
       "        vertical-align: top;\n",
       "    }\n",
       "\n",
       "    .dataframe thead th {\n",
       "        text-align: right;\n",
       "    }\n",
       "</style>\n",
       "<table border=\"1\" class=\"dataframe\">\n",
       "  <thead>\n",
       "    <tr style=\"text-align: right;\">\n",
       "      <th></th>\n",
       "      <th>Close</th>\n",
       "      <th>Open</th>\n",
       "      <th>High</th>\n",
       "      <th>Low</th>\n",
       "      <th>Volume</th>\n",
       "    </tr>\n",
       "    <tr>\n",
       "      <th>Date</th>\n",
       "      <th></th>\n",
       "      <th></th>\n",
       "      <th></th>\n",
       "      <th></th>\n",
       "      <th></th>\n",
       "    </tr>\n",
       "  </thead>\n",
       "  <tbody>\n",
       "    <tr>\n",
       "      <th>2001-01-02</th>\n",
       "      <td>0.265625</td>\n",
       "      <td>0.265625</td>\n",
       "      <td>0.272321</td>\n",
       "      <td>0.260045</td>\n",
       "      <td>452312000</td>\n",
       "    </tr>\n",
       "    <tr>\n",
       "      <th>2001-01-03</th>\n",
       "      <td>0.292411</td>\n",
       "      <td>0.258929</td>\n",
       "      <td>0.297991</td>\n",
       "      <td>0.257813</td>\n",
       "      <td>817073600</td>\n",
       "    </tr>\n",
       "    <tr>\n",
       "      <th>2001-01-04</th>\n",
       "      <td>0.304688</td>\n",
       "      <td>0.323940</td>\n",
       "      <td>0.330357</td>\n",
       "      <td>0.300223</td>\n",
       "      <td>739396000</td>\n",
       "    </tr>\n",
       "  </tbody>\n",
       "</table>\n",
       "</div>"
      ],
      "text/plain": [
       "               Close      Open      High       Low     Volume\n",
       "Date                                                         \n",
       "2001-01-02  0.265625  0.265625  0.272321  0.260045  452312000\n",
       "2001-01-03  0.292411  0.258929  0.297991  0.257813  817073600\n",
       "2001-01-04  0.304688  0.323940  0.330357  0.300223  739396000"
      ]
     },
     "execution_count": 8,
     "metadata": {},
     "output_type": "execute_result"
    }
   ],
   "source": [
    "# Dropping duplicates\n",
    "stock_price = stock_price.drop_duplicates()\n",
    "\n",
    "# Coverting the datatype of column 'Date' from type object to type 'datetime'\n",
    "stock_price[\"Date\"] = pd.to_datetime(stock_price[\"Date\"])\n",
    "\n",
    "# Filtering the important columns required\n",
    "stock_price = stock_price.filter([\"Date\", \"Close\", \"Open\", \"High\", \"Low\", \"Volume\"])\n",
    "\n",
    "# Setting column 'Date' as the index column\n",
    "stock_price.set_index(\"Date\", inplace = True)\n",
    "\n",
    "# Sorting the data according to the index i.e 'Date'\n",
    "stock_price = stock_price.sort_index(ascending = True, axis = 0)\n",
    "stock_price.head(3)"
   ]
  },
  {
   "cell_type": "markdown",
   "metadata": {},
   "source": [
    "__Cleaning Up The News Headlines Data....__"
   ]
  },
  {
   "cell_type": "code",
   "execution_count": 9,
   "metadata": {},
   "outputs": [
    {
     "data": {
      "text/html": [
       "<div>\n",
       "<style scoped>\n",
       "    .dataframe tbody tr th:only-of-type {\n",
       "        vertical-align: middle;\n",
       "    }\n",
       "\n",
       "    .dataframe tbody tr th {\n",
       "        vertical-align: top;\n",
       "    }\n",
       "\n",
       "    .dataframe thead th {\n",
       "        text-align: right;\n",
       "    }\n",
       "</style>\n",
       "<table border=\"1\" class=\"dataframe\">\n",
       "  <thead>\n",
       "    <tr style=\"text-align: right;\">\n",
       "      <th></th>\n",
       "      <th>headline_text</th>\n",
       "    </tr>\n",
       "    <tr>\n",
       "      <th>publish_date</th>\n",
       "      <th></th>\n",
       "    </tr>\n",
       "  </thead>\n",
       "  <tbody>\n",
       "    <tr>\n",
       "      <th>2001-01-02</th>\n",
       "      <td>Status quo will not be disturbed at Ayodhya; s...</td>\n",
       "    </tr>\n",
       "    <tr>\n",
       "      <th>2001-01-03</th>\n",
       "      <td>Powerless north India gropes in the dark,Think...</td>\n",
       "    </tr>\n",
       "    <tr>\n",
       "      <th>2001-01-04</th>\n",
       "      <td>The string that pulled Stephen Hawking to Indi...</td>\n",
       "    </tr>\n",
       "  </tbody>\n",
       "</table>\n",
       "</div>"
      ],
      "text/plain": [
       "                                                  headline_text\n",
       "publish_date                                                   \n",
       "2001-01-02    Status quo will not be disturbed at Ayodhya; s...\n",
       "2001-01-03    Powerless north India gropes in the dark,Think...\n",
       "2001-01-04    The string that pulled Stephen Hawking to Indi..."
      ]
     },
     "execution_count": 9,
     "metadata": {},
     "output_type": "execute_result"
    }
   ],
   "source": [
    "# Dropping duplicates\n",
    "news_headlines = news_headlines.drop_duplicates()\n",
    "\n",
    "# Coverting the datatype of column 'Date' from type object to type 'datetime'\n",
    "news_headlines[\"publish_date\"] = news_headlines[\"publish_date\"].astype(str)\n",
    "news_headlines[\"publish_date\"] = news_headlines[\"publish_date\"].apply(lambda x: x[0:4] + '-' + x[4:6] + '-' + x[6:8])\n",
    "news_headlines[\"publish_date\"] = pd.to_datetime(news_headlines[\"publish_date\"])\n",
    "\n",
    "# Filtering the important columns required\n",
    "news_headlines = news_headlines.filter([\"publish_date\", \"headline_text\"])\n",
    "\n",
    "# Grouping the news headlines according to 'Date'\n",
    "news_headlines = news_headlines.groupby([\"publish_date\"])[\"headline_text\"].apply(lambda x: ','.join(x)).reset_index()\n",
    "\n",
    "# Setting column 'Date' as the index column\n",
    "news_headlines.set_index(\"publish_date\", inplace= True)\n",
    "\n",
    "# Sorting the data according to the index i.e 'Date'\n",
    "news_headlines = news_headlines.sort_index(ascending=True, axis=0)\n",
    "news_headlines.head(3)"
   ]
  },
  {
   "cell_type": "markdown",
   "metadata": {},
   "source": [
    "__Merging Stock Price And News Headlines Data....__"
   ]
  },
  {
   "cell_type": "code",
   "execution_count": 10,
   "metadata": {},
   "outputs": [
    {
     "data": {
      "text/html": [
       "<div>\n",
       "<style scoped>\n",
       "    .dataframe tbody tr th:only-of-type {\n",
       "        vertical-align: middle;\n",
       "    }\n",
       "\n",
       "    .dataframe tbody tr th {\n",
       "        vertical-align: top;\n",
       "    }\n",
       "\n",
       "    .dataframe thead th {\n",
       "        text-align: right;\n",
       "    }\n",
       "</style>\n",
       "<table border=\"1\" class=\"dataframe\">\n",
       "  <thead>\n",
       "    <tr style=\"text-align: right;\">\n",
       "      <th></th>\n",
       "      <th>Close</th>\n",
       "      <th>Open</th>\n",
       "      <th>High</th>\n",
       "      <th>Low</th>\n",
       "      <th>Volume</th>\n",
       "      <th>headline_text</th>\n",
       "    </tr>\n",
       "  </thead>\n",
       "  <tbody>\n",
       "    <tr>\n",
       "      <th>2001-01-02</th>\n",
       "      <td>0.265625</td>\n",
       "      <td>0.265625</td>\n",
       "      <td>0.272321</td>\n",
       "      <td>0.260045</td>\n",
       "      <td>452312000.0</td>\n",
       "      <td>Status quo will not be disturbed at Ayodhya; s...</td>\n",
       "    </tr>\n",
       "    <tr>\n",
       "      <th>2001-01-03</th>\n",
       "      <td>0.292411</td>\n",
       "      <td>0.258929</td>\n",
       "      <td>0.297991</td>\n",
       "      <td>0.257813</td>\n",
       "      <td>817073600.0</td>\n",
       "      <td>Powerless north India gropes in the dark,Think...</td>\n",
       "    </tr>\n",
       "    <tr>\n",
       "      <th>2001-01-04</th>\n",
       "      <td>0.304688</td>\n",
       "      <td>0.323940</td>\n",
       "      <td>0.330357</td>\n",
       "      <td>0.300223</td>\n",
       "      <td>739396000.0</td>\n",
       "      <td>The string that pulled Stephen Hawking to Indi...</td>\n",
       "    </tr>\n",
       "  </tbody>\n",
       "</table>\n",
       "</div>"
      ],
      "text/plain": [
       "               Close      Open      High       Low       Volume  \\\n",
       "2001-01-02  0.265625  0.265625  0.272321  0.260045  452312000.0   \n",
       "2001-01-03  0.292411  0.258929  0.297991  0.257813  817073600.0   \n",
       "2001-01-04  0.304688  0.323940  0.330357  0.300223  739396000.0   \n",
       "\n",
       "                                                headline_text  \n",
       "2001-01-02  Status quo will not be disturbed at Ayodhya; s...  \n",
       "2001-01-03  Powerless north India gropes in the dark,Think...  \n",
       "2001-01-04  The string that pulled Stephen Hawking to Indi...  "
      ]
     },
     "execution_count": 10,
     "metadata": {},
     "output_type": "execute_result"
    }
   ],
   "source": [
    "stock_data = pd.concat([stock_price, news_headlines], axis = 1)\n",
    "stock_data.dropna(axis = 0, inplace = True)\n",
    "stock_data.head(3)"
   ]
  },
  {
   "cell_type": "markdown",
   "metadata": {},
   "source": [
    "### Calculating Sentiment / Polarity Scores"
   ]
  },
  {
   "cell_type": "markdown",
   "metadata": {},
   "source": [
    "* Positive\n",
    "* Negative\n",
    "* Neutral\n",
    "* Compound\n",
    "\n",
    "The compound score is the sum of positive, negative & neutral scores which is then normalized between -1 (most extreme negative) and +1 (most extreme positive).\n",
    "\n",
    "The more Compound score closer to +1, the higher the positivity of the text."
   ]
  },
  {
   "cell_type": "code",
   "execution_count": 11,
   "metadata": {},
   "outputs": [],
   "source": [
    "# Adding empty sentiment columns to stock_data for later calculation\n",
    "stock_data[\"Positive\"] = \"\"\n",
    "stock_data[\"Negative\"] = \"\"\n",
    "stock_data[\"Neutral\"] = \"\"\n",
    "stock_data[\"Compound\"] = \"\""
   ]
  },
  {
   "cell_type": "code",
   "execution_count": 12,
   "metadata": {},
   "outputs": [
    {
     "data": {
      "text/html": [
       "<div>\n",
       "<style scoped>\n",
       "    .dataframe tbody tr th:only-of-type {\n",
       "        vertical-align: middle;\n",
       "    }\n",
       "\n",
       "    .dataframe tbody tr th {\n",
       "        vertical-align: top;\n",
       "    }\n",
       "\n",
       "    .dataframe thead th {\n",
       "        text-align: right;\n",
       "    }\n",
       "</style>\n",
       "<table border=\"1\" class=\"dataframe\">\n",
       "  <thead>\n",
       "    <tr style=\"text-align: right;\">\n",
       "      <th></th>\n",
       "      <th>Close</th>\n",
       "      <th>Compound</th>\n",
       "      <th>Negative</th>\n",
       "      <th>Neutral</th>\n",
       "      <th>Positive</th>\n",
       "      <th>Open</th>\n",
       "      <th>High</th>\n",
       "      <th>Low</th>\n",
       "      <th>Volume</th>\n",
       "    </tr>\n",
       "  </thead>\n",
       "  <tbody>\n",
       "    <tr>\n",
       "      <th>2001-01-02</th>\n",
       "      <td>0.265625</td>\n",
       "      <td>-0.9621</td>\n",
       "      <td>0.119</td>\n",
       "      <td>0.817</td>\n",
       "      <td>0.064</td>\n",
       "      <td>0.265625</td>\n",
       "      <td>0.272321</td>\n",
       "      <td>0.260045</td>\n",
       "      <td>452312000.0</td>\n",
       "    </tr>\n",
       "    <tr>\n",
       "      <th>2001-01-03</th>\n",
       "      <td>0.292411</td>\n",
       "      <td>0.6322</td>\n",
       "      <td>0.084</td>\n",
       "      <td>0.817</td>\n",
       "      <td>0.098</td>\n",
       "      <td>0.258929</td>\n",
       "      <td>0.297991</td>\n",
       "      <td>0.257813</td>\n",
       "      <td>817073600.0</td>\n",
       "    </tr>\n",
       "    <tr>\n",
       "      <th>2001-01-04</th>\n",
       "      <td>0.304688</td>\n",
       "      <td>0.6648</td>\n",
       "      <td>0.077</td>\n",
       "      <td>0.843</td>\n",
       "      <td>0.080</td>\n",
       "      <td>0.323940</td>\n",
       "      <td>0.330357</td>\n",
       "      <td>0.300223</td>\n",
       "      <td>739396000.0</td>\n",
       "    </tr>\n",
       "  </tbody>\n",
       "</table>\n",
       "</div>"
      ],
      "text/plain": [
       "               Close  Compound  Negative  Neutral  Positive      Open  \\\n",
       "2001-01-02  0.265625   -0.9621     0.119    0.817     0.064  0.265625   \n",
       "2001-01-03  0.292411    0.6322     0.084    0.817     0.098  0.258929   \n",
       "2001-01-04  0.304688    0.6648     0.077    0.843     0.080  0.323940   \n",
       "\n",
       "                High       Low       Volume  \n",
       "2001-01-02  0.272321  0.260045  452312000.0  \n",
       "2001-01-03  0.297991  0.257813  817073600.0  \n",
       "2001-01-04  0.330357  0.300223  739396000.0  "
      ]
     },
     "execution_count": 12,
     "metadata": {},
     "output_type": "execute_result"
    }
   ],
   "source": [
    "from nltk.sentiment.vader import SentimentIntensityAnalyzer\n",
    "import unicodedata\n",
    "\n",
    "SIA = SentimentIntensityAnalyzer()\n",
    "\n",
    "# Calculating sentiment scores\n",
    "stock_data[\"Compound\"] = stock_data[\"headline_text\"].apply(lambda x: SIA.polarity_scores(x)[\"compound\"])\n",
    "stock_data[\"Negative\"] = stock_data[\"headline_text\"].apply(lambda x: SIA.polarity_scores(x)[\"neg\"])\n",
    "stock_data[\"Neutral\"] = stock_data[\"headline_text\"].apply(lambda x: SIA.polarity_scores(x)[\"neu\"])\n",
    "stock_data[\"Positive\"] = stock_data[\"headline_text\"].apply(lambda x: SIA.polarity_scores(x)[\"pos\"])\n",
    "\n",
    "# Dropping the 'headline_text' which is unwanted now\n",
    "stock_data.drop([\"headline_text\"], inplace = True, axis = 1)\n",
    "\n",
    "# Rearranging the columns of the whole stock_data\n",
    "stock_data = stock_data[[\"Close\", \"Compound\", \"Negative\", \"Neutral\", \"Positive\", \"Open\", \"High\", \"Low\", \"Volume\"]]\n",
    "stock_data.head(3)"
   ]
  },
  {
   "cell_type": "markdown",
   "metadata": {},
   "source": [
    "__Writing The Prepared Stock Data To The Disk....__"
   ]
  },
  {
   "cell_type": "code",
   "execution_count": 13,
   "metadata": {},
   "outputs": [],
   "source": [
    "stock_data.to_csv(\"stock_data.csv\")"
   ]
  },
  {
   "cell_type": "markdown",
   "metadata": {},
   "source": [
    "### Re - Reading The Stock Data & Feature Engineering"
   ]
  },
  {
   "cell_type": "code",
   "execution_count": 14,
   "metadata": {},
   "outputs": [
    {
     "data": {
      "text/html": [
       "<div>\n",
       "<style scoped>\n",
       "    .dataframe tbody tr th:only-of-type {\n",
       "        vertical-align: middle;\n",
       "    }\n",
       "\n",
       "    .dataframe tbody tr th {\n",
       "        vertical-align: top;\n",
       "    }\n",
       "\n",
       "    .dataframe thead th {\n",
       "        text-align: right;\n",
       "    }\n",
       "</style>\n",
       "<table border=\"1\" class=\"dataframe\">\n",
       "  <thead>\n",
       "    <tr style=\"text-align: right;\">\n",
       "      <th></th>\n",
       "      <th>Close</th>\n",
       "      <th>Compound</th>\n",
       "      <th>Negative</th>\n",
       "      <th>Neutral</th>\n",
       "      <th>Positive</th>\n",
       "      <th>Open</th>\n",
       "      <th>High</th>\n",
       "      <th>Low</th>\n",
       "      <th>Volume</th>\n",
       "    </tr>\n",
       "    <tr>\n",
       "      <th>Date</th>\n",
       "      <th></th>\n",
       "      <th></th>\n",
       "      <th></th>\n",
       "      <th></th>\n",
       "      <th></th>\n",
       "      <th></th>\n",
       "      <th></th>\n",
       "      <th></th>\n",
       "      <th></th>\n",
       "    </tr>\n",
       "  </thead>\n",
       "  <tbody>\n",
       "    <tr>\n",
       "      <th>2001-01-02</th>\n",
       "      <td>0.265625</td>\n",
       "      <td>-0.9621</td>\n",
       "      <td>0.119</td>\n",
       "      <td>0.817</td>\n",
       "      <td>0.064</td>\n",
       "      <td>0.265625</td>\n",
       "      <td>0.272321</td>\n",
       "      <td>0.260045</td>\n",
       "      <td>452312000.0</td>\n",
       "    </tr>\n",
       "    <tr>\n",
       "      <th>2001-01-03</th>\n",
       "      <td>0.292411</td>\n",
       "      <td>0.6322</td>\n",
       "      <td>0.084</td>\n",
       "      <td>0.817</td>\n",
       "      <td>0.098</td>\n",
       "      <td>0.258929</td>\n",
       "      <td>0.297991</td>\n",
       "      <td>0.257813</td>\n",
       "      <td>817073600.0</td>\n",
       "    </tr>\n",
       "    <tr>\n",
       "      <th>2001-01-04</th>\n",
       "      <td>0.304688</td>\n",
       "      <td>0.6648</td>\n",
       "      <td>0.077</td>\n",
       "      <td>0.843</td>\n",
       "      <td>0.080</td>\n",
       "      <td>0.323940</td>\n",
       "      <td>0.330357</td>\n",
       "      <td>0.300223</td>\n",
       "      <td>739396000.0</td>\n",
       "    </tr>\n",
       "  </tbody>\n",
       "</table>\n",
       "</div>"
      ],
      "text/plain": [
       "               Close  Compound  Negative  Neutral  Positive      Open  \\\n",
       "Date                                                                    \n",
       "2001-01-02  0.265625   -0.9621     0.119    0.817     0.064  0.265625   \n",
       "2001-01-03  0.292411    0.6322     0.084    0.817     0.098  0.258929   \n",
       "2001-01-04  0.304688    0.6648     0.077    0.843     0.080  0.323940   \n",
       "\n",
       "                High       Low       Volume  \n",
       "Date                                         \n",
       "2001-01-02  0.272321  0.260045  452312000.0  \n",
       "2001-01-03  0.297991  0.257813  817073600.0  \n",
       "2001-01-04  0.330357  0.300223  739396000.0  "
      ]
     },
     "execution_count": 14,
     "metadata": {},
     "output_type": "execute_result"
    }
   ],
   "source": [
    "stock_data = pd.read_csv(\"stock_data.csv\", index_col = False)\n",
    "\n",
    "# Renaming the column\n",
    "stock_data.rename(columns = {\"Unnamed: 0\":\"Date\"}, inplace = True)\n",
    "\n",
    "# Setting the column 'Date' as the index column\n",
    "stock_data.set_index(\"Date\", inplace = True)\n",
    "stock_data.head(3)"
   ]
  },
  {
   "cell_type": "code",
   "execution_count": 15,
   "metadata": {},
   "outputs": [
    {
     "name": "stdout",
     "output_type": "stream",
     "text": [
      "Stock Data Shape:  4876 × 9\n"
     ]
    }
   ],
   "source": [
    "print(\"Stock Data Shape: \", stock_data.shape[0], \"×\", stock_data.shape[1])"
   ]
  },
  {
   "cell_type": "markdown",
   "metadata": {},
   "source": [
    "__Checking For Null Values....__"
   ]
  },
  {
   "cell_type": "code",
   "execution_count": 16,
   "metadata": {},
   "outputs": [
    {
     "data": {
      "text/plain": [
       "Close       0\n",
       "Compound    0\n",
       "Negative    0\n",
       "Neutral     0\n",
       "Positive    0\n",
       "Open        0\n",
       "High        0\n",
       "Low         0\n",
       "Volume      0\n",
       "dtype: int64"
      ]
     },
     "execution_count": 16,
     "metadata": {},
     "output_type": "execute_result"
    }
   ],
   "source": [
    "stock_data.isnull().sum()"
   ]
  },
  {
   "cell_type": "markdown",
   "metadata": {},
   "source": [
    "__Stock Data Statistics....__"
   ]
  },
  {
   "cell_type": "code",
   "execution_count": 17,
   "metadata": {},
   "outputs": [
    {
     "data": {
      "text/html": [
       "<div>\n",
       "<style scoped>\n",
       "    .dataframe tbody tr th:only-of-type {\n",
       "        vertical-align: middle;\n",
       "    }\n",
       "\n",
       "    .dataframe tbody tr th {\n",
       "        vertical-align: top;\n",
       "    }\n",
       "\n",
       "    .dataframe thead th {\n",
       "        text-align: right;\n",
       "    }\n",
       "</style>\n",
       "<table border=\"1\" class=\"dataframe\">\n",
       "  <thead>\n",
       "    <tr style=\"text-align: right;\">\n",
       "      <th></th>\n",
       "      <th>Close</th>\n",
       "      <th>Compound</th>\n",
       "      <th>Negative</th>\n",
       "      <th>Neutral</th>\n",
       "      <th>Positive</th>\n",
       "      <th>Open</th>\n",
       "      <th>High</th>\n",
       "      <th>Low</th>\n",
       "      <th>Volume</th>\n",
       "    </tr>\n",
       "  </thead>\n",
       "  <tbody>\n",
       "    <tr>\n",
       "      <th>count</th>\n",
       "      <td>4876.000000</td>\n",
       "      <td>4876.000000</td>\n",
       "      <td>4876.000000</td>\n",
       "      <td>4876.000000</td>\n",
       "      <td>4876.000000</td>\n",
       "      <td>4876.000000</td>\n",
       "      <td>4876.000000</td>\n",
       "      <td>4876.000000</td>\n",
       "      <td>4.876000e+03</td>\n",
       "    </tr>\n",
       "    <tr>\n",
       "      <th>mean</th>\n",
       "      <td>17.240855</td>\n",
       "      <td>-0.867993</td>\n",
       "      <td>0.126606</td>\n",
       "      <td>0.786317</td>\n",
       "      <td>0.087070</td>\n",
       "      <td>17.231561</td>\n",
       "      <td>17.406451</td>\n",
       "      <td>17.060156</td>\n",
       "      <td>4.512664e+08</td>\n",
       "    </tr>\n",
       "    <tr>\n",
       "      <th>std</th>\n",
       "      <td>18.701517</td>\n",
       "      <td>0.457759</td>\n",
       "      <td>0.024253</td>\n",
       "      <td>0.033011</td>\n",
       "      <td>0.020944</td>\n",
       "      <td>18.671171</td>\n",
       "      <td>18.873885</td>\n",
       "      <td>18.500307</td>\n",
       "      <td>3.855541e+08</td>\n",
       "    </tr>\n",
       "    <tr>\n",
       "      <th>min</th>\n",
       "      <td>0.234286</td>\n",
       "      <td>-1.000000</td>\n",
       "      <td>0.000000</td>\n",
       "      <td>0.000000</td>\n",
       "      <td>0.000000</td>\n",
       "      <td>0.231964</td>\n",
       "      <td>0.235536</td>\n",
       "      <td>0.227143</td>\n",
       "      <td>3.247000e+07</td>\n",
       "    </tr>\n",
       "    <tr>\n",
       "      <th>25%</th>\n",
       "      <td>2.134196</td>\n",
       "      <td>-0.999800</td>\n",
       "      <td>0.113000</td>\n",
       "      <td>0.766000</td>\n",
       "      <td>0.076000</td>\n",
       "      <td>2.137232</td>\n",
       "      <td>2.173392</td>\n",
       "      <td>2.097143</td>\n",
       "      <td>1.774491e+08</td>\n",
       "    </tr>\n",
       "    <tr>\n",
       "      <th>50%</th>\n",
       "      <td>10.928036</td>\n",
       "      <td>-0.999100</td>\n",
       "      <td>0.128000</td>\n",
       "      <td>0.782000</td>\n",
       "      <td>0.087000</td>\n",
       "      <td>10.909285</td>\n",
       "      <td>11.007143</td>\n",
       "      <td>10.769642</td>\n",
       "      <td>3.374560e+08</td>\n",
       "    </tr>\n",
       "    <tr>\n",
       "      <th>75%</th>\n",
       "      <td>27.350625</td>\n",
       "      <td>-0.994200</td>\n",
       "      <td>0.142000</td>\n",
       "      <td>0.804000</td>\n",
       "      <td>0.097000</td>\n",
       "      <td>27.336249</td>\n",
       "      <td>27.606875</td>\n",
       "      <td>27.106250</td>\n",
       "      <td>6.050912e+08</td>\n",
       "    </tr>\n",
       "    <tr>\n",
       "      <th>max</th>\n",
       "      <td>91.632500</td>\n",
       "      <td>1.000000</td>\n",
       "      <td>0.444000</td>\n",
       "      <td>1.000000</td>\n",
       "      <td>0.608000</td>\n",
       "      <td>91.250000</td>\n",
       "      <td>93.095001</td>\n",
       "      <td>90.567497</td>\n",
       "      <td>3.372970e+09</td>\n",
       "    </tr>\n",
       "  </tbody>\n",
       "</table>\n",
       "</div>"
      ],
      "text/plain": [
       "             Close     Compound     Negative      Neutral     Positive  \\\n",
       "count  4876.000000  4876.000000  4876.000000  4876.000000  4876.000000   \n",
       "mean     17.240855    -0.867993     0.126606     0.786317     0.087070   \n",
       "std      18.701517     0.457759     0.024253     0.033011     0.020944   \n",
       "min       0.234286    -1.000000     0.000000     0.000000     0.000000   \n",
       "25%       2.134196    -0.999800     0.113000     0.766000     0.076000   \n",
       "50%      10.928036    -0.999100     0.128000     0.782000     0.087000   \n",
       "75%      27.350625    -0.994200     0.142000     0.804000     0.097000   \n",
       "max      91.632500     1.000000     0.444000     1.000000     0.608000   \n",
       "\n",
       "              Open         High          Low        Volume  \n",
       "count  4876.000000  4876.000000  4876.000000  4.876000e+03  \n",
       "mean     17.231561    17.406451    17.060156  4.512664e+08  \n",
       "std      18.671171    18.873885    18.500307  3.855541e+08  \n",
       "min       0.231964     0.235536     0.227143  3.247000e+07  \n",
       "25%       2.137232     2.173392     2.097143  1.774491e+08  \n",
       "50%      10.909285    11.007143    10.769642  3.374560e+08  \n",
       "75%      27.336249    27.606875    27.106250  6.050912e+08  \n",
       "max      91.250000    93.095001    90.567497  3.372970e+09  "
      ]
     },
     "execution_count": 17,
     "metadata": {},
     "output_type": "execute_result"
    }
   ],
   "source": [
    "stock_data.describe(include = \"all\")"
   ]
  },
  {
   "cell_type": "code",
   "execution_count": 18,
   "metadata": {},
   "outputs": [
    {
     "name": "stdout",
     "output_type": "stream",
     "text": [
      "<class 'pandas.core.frame.DataFrame'>\n",
      "Index: 4876 entries, 2001-01-02 to 2020-06-30\n",
      "Data columns (total 9 columns):\n",
      " #   Column    Non-Null Count  Dtype  \n",
      "---  ------    --------------  -----  \n",
      " 0   Close     4876 non-null   float64\n",
      " 1   Compound  4876 non-null   float64\n",
      " 2   Negative  4876 non-null   float64\n",
      " 3   Neutral   4876 non-null   float64\n",
      " 4   Positive  4876 non-null   float64\n",
      " 5   Open      4876 non-null   float64\n",
      " 6   High      4876 non-null   float64\n",
      " 7   Low       4876 non-null   float64\n",
      " 8   Volume    4876 non-null   float64\n",
      "dtypes: float64(9)\n",
      "memory usage: 380.9+ KB\n"
     ]
    }
   ],
   "source": [
    "stock_data.info()"
   ]
  },
  {
   "cell_type": "markdown",
   "metadata": {},
   "source": [
    "### EDA On Stock Data"
   ]
  },
  {
   "cell_type": "code",
   "execution_count": 19,
   "metadata": {},
   "outputs": [
    {
     "data": {
      "image/png": "[encoded data removed]",
      "text/plain": [
       "<Figure size 1152x720 with 1 Axes>"
      ]
     },
     "metadata": {
      "needs_background": "light"
     },
     "output_type": "display_data"
    }
   ],
   "source": [
    "plt.figure(figsize = (16, 10))\n",
    "ax = sns.lineplot(x = stock_data.index, y = stock_data[\"Close\"])\n",
    "ax.set_xticks(ax.get_xticks()[::1000])\n",
    "plt.xlabel(\"Date\")\n",
    "plt.ylabel(\"Close Price($)\")\n",
    "plt.xticks(rotation = 90)\n",
    "plt.title(\"Close Price\")\n",
    "plt.show()"
   ]
  },
  {
   "cell_type": "markdown",
   "metadata": {},
   "source": [
    "__Correlation Map....__"
   ]
  },
  {
   "cell_type": "code",
   "execution_count": 20,
   "metadata": {},
   "outputs": [
    {
     "data": {
      "image/png": "[encoded data removed]",
      "text/plain": [
       "<Figure size 936x720 with 2 Axes>"
      ]
     },
     "metadata": {
      "needs_background": "light"
     },
     "output_type": "display_data"
    }
   ],
   "source": [
    "plt.figure(figsize = (13, 10))\n",
    "sns.heatmap(\n",
    "    stock_data[['Compound', 'Negative', 'Neutral', 'Positive', 'Open', 'High',\n",
    "       'Low', 'Close', 'Volume']].corr(),\n",
    "    linewidths = .1, \n",
    "    cmap = sns.color_palette(\"mako\", as_cmap=True), \n",
    ")\n",
    "plt.title(\n",
    "    \"Correlation Map\",\n",
    "    fontsize = 20,\n",
    "    pad = 20\n",
    ")\n",
    "plt.xlabel(\"\")\n",
    "plt.ylabel(\"\")\n",
    "plt.show()"
   ]
  },
  {
   "cell_type": "markdown",
   "metadata": {},
   "source": [
    "__Calculating 7 Day Rolling Mean....__"
   ]
  },
  {
   "cell_type": "code",
   "execution_count": 21,
   "metadata": {},
   "outputs": [
    {
     "data": {
      "text/html": [
       "<div>\n",
       "<style scoped>\n",
       "    .dataframe tbody tr th:only-of-type {\n",
       "        vertical-align: middle;\n",
       "    }\n",
       "\n",
       "    .dataframe tbody tr th {\n",
       "        vertical-align: top;\n",
       "    }\n",
       "\n",
       "    .dataframe thead th {\n",
       "        text-align: right;\n",
       "    }\n",
       "</style>\n",
       "<table border=\"1\" class=\"dataframe\">\n",
       "  <thead>\n",
       "    <tr style=\"text-align: right;\">\n",
       "      <th></th>\n",
       "      <th>Close</th>\n",
       "      <th>Compound</th>\n",
       "      <th>Negative</th>\n",
       "      <th>Neutral</th>\n",
       "      <th>Positive</th>\n",
       "      <th>Open</th>\n",
       "      <th>High</th>\n",
       "      <th>Low</th>\n",
       "      <th>Volume</th>\n",
       "    </tr>\n",
       "    <tr>\n",
       "      <th>Date</th>\n",
       "      <th></th>\n",
       "      <th></th>\n",
       "      <th></th>\n",
       "      <th></th>\n",
       "      <th></th>\n",
       "      <th></th>\n",
       "      <th></th>\n",
       "      <th></th>\n",
       "      <th></th>\n",
       "    </tr>\n",
       "  </thead>\n",
       "  <tbody>\n",
       "    <tr>\n",
       "      <th>2001-01-02</th>\n",
       "      <td>NaN</td>\n",
       "      <td>NaN</td>\n",
       "      <td>NaN</td>\n",
       "      <td>NaN</td>\n",
       "      <td>NaN</td>\n",
       "      <td>NaN</td>\n",
       "      <td>NaN</td>\n",
       "      <td>NaN</td>\n",
       "      <td>NaN</td>\n",
       "    </tr>\n",
       "    <tr>\n",
       "      <th>2001-01-03</th>\n",
       "      <td>NaN</td>\n",
       "      <td>NaN</td>\n",
       "      <td>NaN</td>\n",
       "      <td>NaN</td>\n",
       "      <td>NaN</td>\n",
       "      <td>NaN</td>\n",
       "      <td>NaN</td>\n",
       "      <td>NaN</td>\n",
       "      <td>NaN</td>\n",
       "    </tr>\n",
       "    <tr>\n",
       "      <th>2001-01-04</th>\n",
       "      <td>NaN</td>\n",
       "      <td>NaN</td>\n",
       "      <td>NaN</td>\n",
       "      <td>NaN</td>\n",
       "      <td>NaN</td>\n",
       "      <td>NaN</td>\n",
       "      <td>NaN</td>\n",
       "      <td>NaN</td>\n",
       "      <td>NaN</td>\n",
       "    </tr>\n",
       "    <tr>\n",
       "      <th>2001-01-05</th>\n",
       "      <td>NaN</td>\n",
       "      <td>NaN</td>\n",
       "      <td>NaN</td>\n",
       "      <td>NaN</td>\n",
       "      <td>NaN</td>\n",
       "      <td>NaN</td>\n",
       "      <td>NaN</td>\n",
       "      <td>NaN</td>\n",
       "      <td>NaN</td>\n",
       "    </tr>\n",
       "    <tr>\n",
       "      <th>2001-01-08</th>\n",
       "      <td>NaN</td>\n",
       "      <td>NaN</td>\n",
       "      <td>NaN</td>\n",
       "      <td>NaN</td>\n",
       "      <td>NaN</td>\n",
       "      <td>NaN</td>\n",
       "      <td>NaN</td>\n",
       "      <td>NaN</td>\n",
       "      <td>NaN</td>\n",
       "    </tr>\n",
       "    <tr>\n",
       "      <th>2001-01-09</th>\n",
       "      <td>NaN</td>\n",
       "      <td>NaN</td>\n",
       "      <td>NaN</td>\n",
       "      <td>NaN</td>\n",
       "      <td>NaN</td>\n",
       "      <td>NaN</td>\n",
       "      <td>NaN</td>\n",
       "      <td>NaN</td>\n",
       "      <td>NaN</td>\n",
       "    </tr>\n",
       "    <tr>\n",
       "      <th>2001-01-10</th>\n",
       "      <td>0.293368</td>\n",
       "      <td>-0.175914</td>\n",
       "      <td>0.121571</td>\n",
       "      <td>0.810143</td>\n",
       "      <td>0.068000</td>\n",
       "      <td>0.293088</td>\n",
       "      <td>0.304687</td>\n",
       "      <td>0.281728</td>\n",
       "      <td>566364000.0</td>\n",
       "    </tr>\n",
       "    <tr>\n",
       "      <th>2001-01-23</th>\n",
       "      <td>0.307717</td>\n",
       "      <td>0.094314</td>\n",
       "      <td>0.109714</td>\n",
       "      <td>0.818286</td>\n",
       "      <td>0.071714</td>\n",
       "      <td>0.304408</td>\n",
       "      <td>0.319196</td>\n",
       "      <td>0.293208</td>\n",
       "      <td>627395200.0</td>\n",
       "    </tr>\n",
       "    <tr>\n",
       "      <th>2001-01-24</th>\n",
       "      <td>0.318240</td>\n",
       "      <td>-0.125129</td>\n",
       "      <td>0.111429</td>\n",
       "      <td>0.825000</td>\n",
       "      <td>0.063429</td>\n",
       "      <td>0.320033</td>\n",
       "      <td>0.329400</td>\n",
       "      <td>0.306282</td>\n",
       "      <td>613112000.0</td>\n",
       "    </tr>\n",
       "    <tr>\n",
       "      <th>2001-01-25</th>\n",
       "      <td>0.325574</td>\n",
       "      <td>-0.360643</td>\n",
       "      <td>0.119857</td>\n",
       "      <td>0.817429</td>\n",
       "      <td>0.062429</td>\n",
       "      <td>0.326212</td>\n",
       "      <td>0.334662</td>\n",
       "      <td>0.313775</td>\n",
       "      <td>577442400.0</td>\n",
       "    </tr>\n",
       "  </tbody>\n",
       "</table>\n",
       "</div>"
      ],
      "text/plain": [
       "               Close  Compound  Negative   Neutral  Positive      Open  \\\n",
       "Date                                                                     \n",
       "2001-01-02       NaN       NaN       NaN       NaN       NaN       NaN   \n",
       "2001-01-03       NaN       NaN       NaN       NaN       NaN       NaN   \n",
       "2001-01-04       NaN       NaN       NaN       NaN       NaN       NaN   \n",
       "2001-01-05       NaN       NaN       NaN       NaN       NaN       NaN   \n",
       "2001-01-08       NaN       NaN       NaN       NaN       NaN       NaN   \n",
       "2001-01-09       NaN       NaN       NaN       NaN       NaN       NaN   \n",
       "2001-01-10  0.293368 -0.175914  0.121571  0.810143  0.068000  0.293088   \n",
       "2001-01-23  0.307717  0.094314  0.109714  0.818286  0.071714  0.304408   \n",
       "2001-01-24  0.318240 -0.125129  0.111429  0.825000  0.063429  0.320033   \n",
       "2001-01-25  0.325574 -0.360643  0.119857  0.817429  0.062429  0.326212   \n",
       "\n",
       "                High       Low       Volume  \n",
       "Date                                         \n",
       "2001-01-02       NaN       NaN          NaN  \n",
       "2001-01-03       NaN       NaN          NaN  \n",
       "2001-01-04       NaN       NaN          NaN  \n",
       "2001-01-05       NaN       NaN          NaN  \n",
       "2001-01-08       NaN       NaN          NaN  \n",
       "2001-01-09       NaN       NaN          NaN  \n",
       "2001-01-10  0.304687  0.281728  566364000.0  \n",
       "2001-01-23  0.319196  0.293208  627395200.0  \n",
       "2001-01-24  0.329400  0.306282  613112000.0  \n",
       "2001-01-25  0.334662  0.313775  577442400.0  "
      ]
     },
     "execution_count": 21,
     "metadata": {},
     "output_type": "execute_result"
    }
   ],
   "source": [
    "stock_data.rolling(7).mean().head(10)"
   ]
  },
  {
   "cell_type": "code",
   "execution_count": 22,
   "metadata": {},
   "outputs": [
    {
     "data": {
      "image/png": "[encoded data removed]",
      "text/plain": [
       "<Figure size 1152x720 with 1 Axes>"
      ]
     },
     "metadata": {
      "needs_background": "light"
     },
     "output_type": "display_data"
    }
   ],
   "source": [
    "# Plotting the close price and a 30-day rolling mean of close price\n",
    "plt.figure(figsize = (16, 10))\n",
    "stock_data[\"Close\"].plot()\n",
    "stock_data.rolling(window = 30).mean()[\"Close\"].plot()\n",
    "plt.xticks(rotation = 90)\n",
    "plt.show()"
   ]
  },
  {
   "cell_type": "markdown",
   "metadata": {},
   "source": [
    "### Data Preparation For Model Creation"
   ]
  },
  {
   "cell_type": "code",
   "execution_count": 23,
   "metadata": {},
   "outputs": [],
   "source": [
    "time_step = 1\n",
    "training_size = int(len(stock_data) * 0.80)\n",
    "test_size = len(stock_data) - training_size\n",
    "train_data, test_data = stock_data.iloc[0:training_size, :], stock_data.iloc[training_size - time_step:len(stock_data), :]"
   ]
  },
  {
   "cell_type": "code",
   "execution_count": 24,
   "metadata": {},
   "outputs": [],
   "source": [
    "def create_dataset(data, time_step = 1):\n",
    "    features = [data[\"Close\"]]\n",
    "    feature_names = [\"Close\"]\n",
    "    for i in range(1, time_step + 1):\n",
    "        feature = \"cp_shifted_{k}\".format(k = i)\n",
    "        feature_names.append(feature)\n",
    "        temp = data[\"Close\"].shift((-1 * i))\n",
    "        features.append(temp);\n",
    "        \n",
    "    features.append(data[\"Compound\"]) \n",
    "    feature_names.append(\"Compound\")\n",
    "    for i in range(1, time_step + 1):\n",
    "        feature = \"compound_shifted_{k}\".format(k = i)\n",
    "        feature_names.append(feature)\n",
    "        temp = data[\"Compound\"].shift((-1 * i))\n",
    "        features.append(temp);\n",
    "    \n",
    "    \n",
    "    df = pd.concat(features, axis=1)\n",
    "    df.columns = feature_names\n",
    "    df = df.shift(periods = time_step)\n",
    "    df = df.dropna()\n",
    "    return df\n",
    "    "
   ]
  },
  {
   "cell_type": "code",
   "execution_count": 25,
   "metadata": {},
   "outputs": [],
   "source": [
    "X_train = create_dataset(train_data, time_step)\n",
    "X_test = create_dataset(test_data, time_step)"
   ]
  },
  {
   "cell_type": "code",
   "execution_count": 26,
   "metadata": {},
   "outputs": [],
   "source": [
    "y_train = X_train[\"cp_shifted_{t}\".format(t = time_step)]\n",
    "y_test = X_test[\"cp_shifted_{t}\".format(t = time_step)]"
   ]
  },
  {
   "cell_type": "code",
   "execution_count": 27,
   "metadata": {
    "scrolled": true
   },
   "outputs": [],
   "source": [
    "X_train.drop(columns = [\"cp_shifted_{t}\".format(t = time_step)], inplace = True)\n",
    "X_test.drop(columns = [\"cp_shifted_{t}\".format(t = time_step)], inplace = True)"
   ]
  },
  {
   "cell_type": "code",
   "execution_count": 28,
   "metadata": {},
   "outputs": [
    {
     "data": {
      "text/plain": [
       "((3899, 3), (976, 3))"
      ]
     },
     "execution_count": 28,
     "metadata": {},
     "output_type": "execute_result"
    }
   ],
   "source": [
    "X_train.shape, X_test.shape"
   ]
  },
  {
   "cell_type": "markdown",
   "metadata": {},
   "source": [
    "### Scaling The Target Variable And The Feature Dataset            \n",
    "\n",
    "LSTM can be very sensitive to the scale of the data, So Here I am using MinMaxScaler to scale each input variable separately to the range 0-1."
   ]
  },
  {
   "cell_type": "code",
   "execution_count": 29,
   "metadata": {},
   "outputs": [],
   "source": [
    "from sklearn.preprocessing import MinMaxScaler\n",
    "scaler = MinMaxScaler(feature_range = (0, 1))\n",
    "\n",
    "X_train = scaler.fit_transform(np.array(X_train))\n",
    "y_train = scaler.fit_transform(np.array(y_train).reshape((len(y_train), 1)))\n",
    "\n",
    "X_test = scaler.fit_transform(np.array(X_test))\n",
    "y_test = scaler.fit_transform(np.array(y_test).reshape((len(y_test), 1)))"
   ]
  },
  {
   "cell_type": "code",
   "execution_count": 30,
   "metadata": {},
   "outputs": [
    {
     "data": {
      "text/plain": [
       "((3899, 3), (3899, 1), (976, 3), (976, 1))"
      ]
     },
     "execution_count": 30,
     "metadata": {},
     "output_type": "execute_result"
    }
   ],
   "source": [
    "X_train.shape, y_train.shape, X_test.shape, y_test.shape"
   ]
  },
  {
   "cell_type": "markdown",
   "metadata": {},
   "source": [
    "### Dividing The Dataset Into Training And Test\n",
    "\n",
    "Since our data is time-series data we cannot simply use train_test_split to split the data, So here I am creating train and test data separately without using train_test_split. "
   ]
  },
  {
   "cell_type": "code",
   "execution_count": 31,
   "metadata": {},
   "outputs": [
    {
     "name": "stdout",
     "output_type": "stream",
     "text": [
      "Shape of Training set X: (3899, 3, 1)\n",
      "Shape of Test set X: (976, 3, 1)\n"
     ]
    }
   ],
   "source": [
    "# Reshaping the feature dataset for feeding into the model\n",
    "X_train = X_train.reshape (X_train.shape + (1,)) \n",
    "X_test = X_test.reshape(X_test.shape + (1,))\n",
    "\n",
    "# Printing the re-shaped feature dataset\n",
    "print('Shape of Training set X:', X_train.shape)\n",
    "print('Shape of Test set X:', X_test.shape)"
   ]
  },
  {
   "cell_type": "markdown",
   "metadata": {},
   "source": [
    "### Stock Data Modelling"
   ]
  },
  {
   "cell_type": "code",
   "execution_count": 32,
   "metadata": {},
   "outputs": [],
   "source": [
    "from tensorflow.keras.models import Sequential\n",
    "from tensorflow.keras.layers import Dense, LSTM, Dropout, Activation"
   ]
  },
  {
   "cell_type": "code",
   "execution_count": 33,
   "metadata": {},
   "outputs": [
    {
     "name": "stdout",
     "output_type": "stream",
     "text": [
      "Model: \"sequential\"\n",
      "_________________________________________________________________\n",
      "Layer (type)                 Output Shape              Param #   \n",
      "=================================================================\n",
      "lstm (LSTM)                  (None, 3, 60)             14880     \n",
      "_________________________________________________________________\n",
      "dropout (Dropout)            (None, 3, 60)             0         \n",
      "_________________________________________________________________\n",
      "lstm_1 (LSTM)                (None, 3, 120)            86880     \n",
      "_________________________________________________________________\n",
      "dropout_1 (Dropout)          (None, 3, 120)            0         \n",
      "_________________________________________________________________\n",
      "lstm_2 (LSTM)                (None, 240)               346560    \n",
      "_________________________________________________________________\n",
      "dropout_2 (Dropout)          (None, 240)               0         \n",
      "_________________________________________________________________\n",
      "dense (Dense)                (None, 1)                 241       \n",
      "=================================================================\n",
      "Total params: 448,561\n",
      "Trainable params: 448,561\n",
      "Non-trainable params: 0\n",
      "_________________________________________________________________\n"
     ]
    }
   ],
   "source": [
    "# Creating the model architecture\n",
    "model=Sequential()\n",
    "model.add(LSTM(60,return_sequences=True,activation='tanh',input_shape=(X_train.shape[1], 1)))\n",
    "model.add(Dropout(0.2))\n",
    "model.add(LSTM(120,return_sequences=True,activation='tanh'))\n",
    "model.add(Dropout(0.2))\n",
    "model.add(LSTM(240,activation='tanh'))\n",
    "model.add(Dropout(0.1))\n",
    "model.add(Dense(1))\n",
    "\n",
    "# Printing the model summary\n",
    "model.summary()"
   ]
  },
  {
   "cell_type": "code",
   "execution_count": 34,
   "metadata": {},
   "outputs": [
    {
     "name": "stdout",
     "output_type": "stream",
     "text": [
      "Epoch 1/25\n",
      "195/195 [==============================] - 2s 11ms/step - loss: 0.0092 - val_loss: 9.5260e-04\n",
      "Epoch 2/25\n",
      "195/195 [==============================] - 1s 7ms/step - loss: 9.2032e-04 - val_loss: 3.4838e-04\n",
      "Epoch 3/25\n",
      "195/195 [==============================] - 1s 7ms/step - loss: 7.4414e-04 - val_loss: 0.0021\n",
      "Epoch 4/25\n",
      "195/195 [==============================] - 1s 7ms/step - loss: 6.8584e-04 - val_loss: 0.0025\n",
      "Epoch 5/25\n",
      "195/195 [==============================] - 1s 7ms/step - loss: 5.4872e-04 - val_loss: 0.0110\n",
      "Epoch 6/25\n",
      "195/195 [==============================] - 1s 7ms/step - loss: 6.6350e-04 - val_loss: 0.0028\n",
      "Epoch 7/25\n",
      "195/195 [==============================] - 1s 7ms/step - loss: 5.3655e-04 - val_loss: 4.5106e-04\n",
      "Epoch 8/25\n",
      "195/195 [==============================] - 1s 7ms/step - loss: 4.5022e-04 - val_loss: 3.4690e-04\n",
      "Epoch 9/25\n",
      "195/195 [==============================] - 1s 7ms/step - loss: 4.9186e-04 - val_loss: 0.0016\n",
      "Epoch 10/25\n",
      "195/195 [==============================] - 1s 7ms/step - loss: 4.6046e-04 - val_loss: 3.6761e-04\n",
      "Epoch 11/25\n",
      "195/195 [==============================] - 1s 7ms/step - loss: 3.6042e-04 - val_loss: 9.0395e-04\n",
      "Epoch 12/25\n",
      "195/195 [==============================] - 1s 7ms/step - loss: 3.7484e-04 - val_loss: 0.0014\n",
      "Epoch 13/25\n",
      "195/195 [==============================] - 1s 7ms/step - loss: 3.5833e-04 - val_loss: 0.0013\n",
      "Epoch 14/25\n",
      "195/195 [==============================] - 1s 7ms/step - loss: 3.6559e-04 - val_loss: 5.6328e-04\n",
      "Epoch 15/25\n",
      "195/195 [==============================] - 1s 7ms/step - loss: 3.5277e-04 - val_loss: 0.0016\n",
      "Epoch 16/25\n",
      "195/195 [==============================] - 1s 7ms/step - loss: 3.6610e-04 - val_loss: 3.8780e-04\n",
      "Epoch 17/25\n",
      "195/195 [==============================] - 1s 7ms/step - loss: 3.3747e-04 - val_loss: 0.0014\n",
      "Epoch 18/25\n",
      "195/195 [==============================] - 1s 7ms/step - loss: 3.1496e-04 - val_loss: 8.6024e-04\n",
      "Epoch 19/25\n",
      "195/195 [==============================] - 1s 7ms/step - loss: 2.7976e-04 - val_loss: 0.0013\n",
      "Epoch 20/25\n",
      "195/195 [==============================] - 1s 7ms/step - loss: 2.8821e-04 - val_loss: 0.0050\n",
      "Epoch 21/25\n",
      "195/195 [==============================] - 1s 7ms/step - loss: 2.9741e-04 - val_loss: 0.0044\n",
      "Epoch 22/25\n",
      "195/195 [==============================] - 1s 7ms/step - loss: 3.1635e-04 - val_loss: 0.0011\n",
      "Epoch 23/25\n",
      "195/195 [==============================] - 1s 7ms/step - loss: 2.2918e-04 - val_loss: 5.4432e-04\n",
      "Epoch 24/25\n",
      "195/195 [==============================] - 1s 7ms/step - loss: 3.4261e-04 - val_loss: 0.0053\n",
      "Epoch 25/25\n",
      "195/195 [==============================] - 1s 7ms/step - loss: 2.6330e-04 - val_loss: 0.0032\n"
     ]
    },
    {
     "data": {
      "text/plain": [
       "<tensorflow.python.keras.callbacks.History at 0x1721aea1490>"
      ]
     },
     "execution_count": 34,
     "metadata": {},
     "output_type": "execute_result"
    }
   ],
   "source": [
    "# Compiling the model\n",
    "model.compile(loss='mse' , optimizer='adam')\n",
    "\n",
    "# Fitting the model using the training dataset\n",
    "model.fit(X_train, y_train, validation_split=0.2, epochs=25, batch_size=16, verbose=1)"
   ]
  },
  {
   "cell_type": "markdown",
   "metadata": {},
   "source": [
    "## Saving The Model To disk"
   ]
  },
  {
   "cell_type": "code",
   "execution_count": 35,
   "metadata": {},
   "outputs": [
    {
     "name": "stdout",
     "output_type": "stream",
     "text": [
      "Model is saved to the disk\n"
     ]
    }
   ],
   "source": [
    "# Saving the model as a json file\n",
    "model_json = model.to_json()\n",
    "with open('model.json', 'w') as json_file:\n",
    "    json_file.write(model_json)\n",
    "    \n",
    "# Serialize weights to HDF5\n",
    "model.save_weights('model.h5')\n",
    "print('Model is saved to the disk')"
   ]
  },
  {
   "cell_type": "markdown",
   "metadata": {},
   "source": [
    "## Predictions"
   ]
  },
  {
   "cell_type": "code",
   "execution_count": 36,
   "metadata": {},
   "outputs": [
    {
     "name": "stdout",
     "output_type": "stream",
     "text": [
      "Predictions:\n"
     ]
    },
    {
     "data": {
      "text/plain": [
       "array([[27.43532 ],\n",
       "       [27.738869],\n",
       "       [27.804941],\n",
       "       [27.682446],\n",
       "       [27.650007]], dtype=float32)"
      ]
     },
     "execution_count": 36,
     "metadata": {},
     "output_type": "execute_result"
    }
   ],
   "source": [
    "predictions = model.predict(X_test) \n",
    "\n",
    "# Unscaling the predictions\n",
    "predictions = scaler.inverse_transform(np.array(predictions).reshape((len(predictions), 1)))\n",
    "\n",
    "# Printing the predictions\n",
    "print('Predictions:')\n",
    "predictions[0:5]"
   ]
  },
  {
   "cell_type": "code",
   "execution_count": 37,
   "metadata": {},
   "outputs": [],
   "source": [
    "train_predict=model.predict(X_train)\n",
    "test_predict=model.predict(X_test)"
   ]
  },
  {
   "cell_type": "code",
   "execution_count": 38,
   "metadata": {},
   "outputs": [],
   "source": [
    "train_predict=scaler.inverse_transform(train_predict)\n",
    "test_predict=scaler.inverse_transform(test_predict)"
   ]
  },
  {
   "cell_type": "code",
   "execution_count": 39,
   "metadata": {},
   "outputs": [
    {
     "data": {
      "text/plain": [
       "47.22572740023225"
      ]
     },
     "execution_count": 39,
     "metadata": {},
     "output_type": "execute_result"
    }
   ],
   "source": [
    "from sklearn.metrics import mean_squared_error\n",
    "math.sqrt(mean_squared_error(y_train,train_predict))"
   ]
  },
  {
   "cell_type": "code",
   "execution_count": 40,
   "metadata": {},
   "outputs": [
    {
     "data": {
      "text/plain": [
       "48.85056165248737"
      ]
     },
     "execution_count": 40,
     "metadata": {},
     "output_type": "execute_result"
    }
   ],
   "source": [
    "math.sqrt(mean_squared_error(y_test,test_predict))"
   ]
  },
  {
   "cell_type": "markdown",
   "metadata": {},
   "source": [
    "## Model Evaluation"
   ]
  },
  {
   "cell_type": "code",
   "execution_count": 41,
   "metadata": {},
   "outputs": [
    {
     "name": "stdout",
     "output_type": "stream",
     "text": [
      "3899/3899 [==============================] - 4s 1ms/step - loss: 7.2219e-04\n",
      "976/976 [==============================] - 1s 1ms/step - loss: 6.1870e-04\n",
      "Train Loss = 0.0007\n",
      "Test Loss = 0.0006\n"
     ]
    }
   ],
   "source": [
    "# Calculating the training mean-squared-error\n",
    "train_loss = model.evaluate(X_train, y_train, batch_size = 1)\n",
    "\n",
    "# Calculating the test mean-squared-error\n",
    "test_loss = model.evaluate(X_test, y_test, batch_size = 1)\n",
    "\n",
    "# Printing the training and the test mean-squared-errors\n",
    "print('Train Loss =', round(train_loss,4))\n",
    "print('Test Loss =', round(test_loss,4))"
   ]
  },
  {
   "cell_type": "code",
   "execution_count": 44,
   "metadata": {},
   "outputs": [],
   "source": [
    "from sklearn import metrics"
   ]
  },
  {
   "cell_type": "code",
   "execution_count": 45,
   "metadata": {},
   "outputs": [
    {
     "name": "stdout",
     "output_type": "stream",
     "text": [
      "Root Mean Square Error = 48.8506\n"
     ]
    }
   ],
   "source": [
    "root_mean_square_error = np.sqrt(np.mean(np.power((y_test - predictions),2)))\n",
    "print('Root Mean Square Error =', round(root_mean_square_error,4))"
   ]
  },
  {
   "cell_type": "code",
   "execution_count": 46,
   "metadata": {},
   "outputs": [
    {
     "name": "stdout",
     "output_type": "stream",
     "text": [
      "Root Mean Square Error (sklearn.metrics) = 48.8506\n"
     ]
    }
   ],
   "source": [
    "rmse = metrics.mean_squared_error(y_test, predictions)\n",
    "print('Root Mean Square Error (sklearn.metrics) =', round(np.sqrt(rmse),4))"
   ]
  },
  {
   "cell_type": "markdown",
   "metadata": {},
   "source": [
    "## Plotting The Predictions Against Unseen Data"
   ]
  },
  {
   "cell_type": "code",
   "execution_count": 47,
   "metadata": {},
   "outputs": [],
   "source": [
    "X_test = scaler.inverse_transform(np.array(X_test).reshape((len(X_test), 3)))\n",
    "\n",
    "# Unscaling y_test, y_train\n",
    "y_train = scaler.inverse_transform(np.array(y_train).reshape((len(y_train), 1)))\n",
    "y_test = scaler.inverse_transform(np.array(y_test).reshape((len(y_test), 1)))"
   ]
  },
  {
   "cell_type": "code",
   "execution_count": 48,
   "metadata": {
    "scrolled": false
   },
   "outputs": [
    {
     "data": {
      "image/png": "[encoded data removed]",
      "text/plain": [
       "<Figure size 1152x720 with 1 Axes>"
      ]
     },
     "metadata": {
      "needs_background": "light"
     },
     "output_type": "display_data"
    }
   ],
   "source": [
    "# Plotting\n",
    "plt.figure(figsize=(16,10))\n",
    "\n",
    "plt.plot(predictions, label=\"Predicted Close Price\")\n",
    "plt.plot([row[0] for row in y_test], label=\"Testing Close Price\")\n",
    "plt.legend(loc='upper center', bbox_to_anchor=(0.5, -0.05), fancybox=True, shadow=True, ncol=2)\n",
    "plt.show()"
   ]
  },
  {
   "cell_type": "code",
   "execution_count": null,
   "metadata": {},
   "outputs": [],
   "source": []
  }
 ],
 "metadata": {
  "kernelspec": {
   "display_name": "Python 3",
   "language": "python",
   "name": "python3"
  },
  "language_info": {
   "codemirror_mode": {
    "name": "ipython",
    "version": 3
   },
   "file_extension": ".py",
   "mimetype": "text/x-python",
   "name": "python",
   "nbconvert_exporter": "python",
   "pygments_lexer": "ipython3",
   "version": "3.8.3"
  }
 },
 "nbformat": 4,
 "nbformat_minor": 4
}
